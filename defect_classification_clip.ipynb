{
  "nbformat": 4,
  "nbformat_minor": 0,
  "metadata": {
    "colab": {
      "provenance": []
    },
    "kernelspec": {
      "name": "python3",
      "display_name": "Python 3"
    },
    "language_info": {
      "name": "python"
    }
  },
  "cells": [
    {
      "cell_type": "markdown",
      "source": [
        "# Introduction\n",
        "\n",
        "This notebook contains the coding assignment for Akridata's ML internships (September 2025).\n",
        "\n",
        "  * [Job description](https://docs.google.com/document/d/e/2PACX-1vRwHkY0TLebdoe-meFsgM3p3DdReJq5Kl1fVN5-tHZrYEuXwo7vYvbIkxa2oQNH4D26Hsv9wP7Mup1l/pub)\n",
        "  * [Application form](https://docs.google.com/forms/d/e/1FAIpQLSdTW9OQXXlHkjKCcxgil4H3BgwPvOrlnqzL0JsqBh5xyAK0aQ/viewform?usp=dialog)\n",
        "\n",
        "## Why This Assignment Exists\n",
        "\n",
        "We receive far more applications than we can meaningfully review — it's too easy to click “Apply” online. That flood inevitably includes many who aren't a fit for the role. We don't want to filter by college names or grades alone.\n",
        "\n",
        "So we add **a bit of friction**: a real, hands-on task. Yes, it's extra work — but it's a better signal than a resume or a keyword-stuffed LinkedIn profile.\n",
        "\n",
        "We've picked something that:\n",
        "- Is technically straightforward to complete in a reasonable time.\n",
        "- Is interesting and directly relevant to the problems we solve.\n",
        "- Gives you a taste of how we actually work.\n",
        "\n",
        "You are free to use any tools (Google, Forums, Cursor, GenAI) you want to complete this assignment - as long as you do it yourself. You must understand what you do though. We may quiz you on this if you get shortlisted.\n",
        "\n",
        "## Publishing Your Code\n",
        "\n",
        "Once the interview process wraps up, we encourage you to publish your solution and add it to your portfolio. Until then, please keep it private so everyone gets a fair shot.\n",
        "\n",
        "## The Task: Defect Classification\n",
        "\n",
        "At Akridata, we focus on the **critical edge cases of manufacturing inspection** — where failures are costly, dangerous, or both.  \n",
        "Think precision lenses and glass components that could shatter, ball bearings that can fail in high-stress machinery, or kilometers of railway track that no human can realistically inspect end-to-end. We also handle inspection problems where rules-based computer vision falls short — like detecting subtle miswirings in cable assemblies, spotting PCB defects in complex layouts, or checking extremely small parts where manual inspection is painfully slow.\n",
        "\n",
        "This task gives you a glimpse into vision-based inspection work.  \n",
        "You'll tackle **zero-shot defect classification** for a real-world-like case: detecting surface defects in hazelnut images from the MVTec-AD dataset, using OpenAI's `CLIP` vision-language model.\n"
      ],
      "metadata": {
        "id": "1XsPE95HC8AA"
      }
    },
    {
      "cell_type": "markdown",
      "source": [
        "# IMPORTANT\n",
        "\n",
        "## Before proceeding, copy this notebook into your Google Drive, and make changes to your local copy.\n",
        "\n",
        "You have to share the link to your local copy."
      ],
      "metadata": {
        "id": "waDa7t2OG8M9"
      }
    },
    {
      "cell_type": "markdown",
      "source": [
        "# Zero-Shot Defect Classification with CLIP (Git + Colab Workflow)\n",
        "\n",
        "Everything you have to do is templated in the notebook. We provide an overview here; but go through the rest of the notebook before you start coding.\n",
        "\n",
        "\n",
        "## Overview\n",
        "\n",
        "In this assignment, you will:\n",
        "- Use OpenAI's CLIP model to perform zero-shot defect classification on the `hazelnut` subset of the MVTec-AD dataset (test split).\n",
        "- Implement a configuration class (Pydantic) and a classification function in Python.\n",
        "- Practice basic Git workflows: branching, committing, merging, and preserving commit history.\n",
        "- Run your completed code on real image data and produce a confusion matrix.\n",
        "\n",
        "All work must be done entirely inside this Colab notebook, including:\n",
        "- Running Git commands\n",
        "- Editing files in the cloned repository\n",
        "- Installing and importing packages\n",
        "\n",
        "We will run the code in this notebook to verify the submission.\n",
        "\n",
        "*The cells marked as 'TO DO' are the ones where you have to edit code (or text).*\n",
        "\n",
        "\n",
        "## References\n",
        "- [CLIP](https://github.com/openai/CLIP)\n",
        "- [MVTec-AD](https://www.mvtec.com/company/research/datasets/mvtec-ad)\n",
        "- [Pydantic](https://docs.pydantic.dev/latest/)\n",
        "- [CLIP-AC (WinCLIP)](https://arxiv.org/abs/2303.14814)\n",
        "  - See section 4.1 in the WinCLIP paper for a\n",
        "    basic two-class design for anomaly classification.\n",
        "  - Extend this to a defect classification problem for multiple defect classes for this task.\n",
        "  - **Note:** Section 4.1 in the WinCLIP paper does *anomaly classification* only; i.e., separate normal images from defective images. It **does not** discriminate the different types of defects. Your task is to classify good as well as different defect types. For example, the class names for some problem will be ['good', 'broken', 'bent', 'cut', etc.]. These are **not** the class names for the current problem - just as an example for the defect classification task."
      ],
      "metadata": {
        "id": "Uni69hgrOgEh"
      }
    },
    {
      "cell_type": "markdown",
      "source": [
        "# Download and extract dataset"
      ],
      "metadata": {
        "id": "vpn8zXSBuREa"
      }
    },
    {
      "cell_type": "code",
      "source": [
        "#@title Download a the dataset sample from Supervisely\n",
        "!curl https://assets.supervisely.com/supervisely-supervisely-assets-public/teams_storage/W/6/pt/ANAGVgKaC62tTrDQWK5JhNP2dd8ynqaTKSM1QdVoAasmTdaLvBwCuW7nCrq9o9lLS2padKnV9QogVGFlEPg7vxEBPIfuFC2Yq7ELNW7xn2t1egLrQPoGpNFJobhh.tar --output mvtec.tar"
      ],
      "metadata": {
        "id": "re_O7sYqsyMm",
        "colab": {
          "base_uri": "https://localhost:8080/"
        },
        "outputId": "16c2501d-de5c-41a4-ea0e-2793233065ff"
      },
      "execution_count": 1,
      "outputs": [
        {
          "output_type": "stream",
          "name": "stdout",
          "text": [
            "  % Total    % Received % Xferd  Average Speed   Time    Time     Time  Current\n",
            "                                 Dload  Upload   Total   Spent    Left  Speed\n",
            "100  548M  100  548M    0     0  26.3M      0  0:00:20  0:00:20 --:--:-- 26.7M\n"
          ]
        }
      ]
    },
    {
      "cell_type": "code",
      "source": [
        "#@title Extract the tarball 'mvtec.tar' and look for test images for the hazelnut subset\n",
        "!tar -xf mvtec.tar\n",
        "!ls test/img/hazelnut_*"
      ],
      "metadata": {
        "id": "MZA-1oGGtLlP",
        "colab": {
          "base_uri": "https://localhost:8080/"
        },
        "outputId": "642ab466-3926-4844-9d2a-61f2d3988219"
      },
      "execution_count": 2,
      "outputs": [
        {
          "output_type": "stream",
          "name": "stdout",
          "text": [
            "tar: Removing leading `/' from member names\n",
            "test/img/hazelnut_crack_002.png  test/img/hazelnut_print_004.png\n",
            "test/img/hazelnut_cut_003.png\t test/img/hazelnut_print_005.png\n",
            "test/img/hazelnut_good_023.png\t test/img/hazelnut_print_006.png\n",
            "test/img/hazelnut_good_037.png\t test/img/hazelnut_print_007.png\n",
            "test/img/hazelnut_hole_005.png\t test/img/hazelnut_print_009.png\n",
            "test/img/hazelnut_hole_010.png\t test/img/hazelnut_print_011.png\n",
            "test/img/hazelnut_hole_013.png\t test/img/hazelnut_print_012.png\n",
            "test/img/hazelnut_hole_016.png\t test/img/hazelnut_print_013.png\n",
            "test/img/hazelnut_print_003.png  test/img/hazelnut_print_016.png\n"
          ]
        }
      ]
    },
    {
      "cell_type": "markdown",
      "source": [
        "# Clone the repo\n",
        "\n",
        "This is the repo to clone:\n",
        "\n",
        "https://github.com/akridata-ai/ZS-CLIP-AC-naive"
      ],
      "metadata": {
        "id": "OTxq9DihueUO"
      }
    },
    {
      "cell_type": "code",
      "source": [
        "#@title TO DO: Clone the Git repo here, in the Colab runtime\n",
        "!git clone https://github.com/akridata-ai/ZS-CLIP-AC-naive.git"
      ],
      "metadata": {
        "id": "czOSoKfOuhx3",
        "colab": {
          "base_uri": "https://localhost:8080/"
        },
        "outputId": "49b984ca-8270-43b8-82a5-39424cd5e1b3"
      },
      "execution_count": 3,
      "outputs": [
        {
          "output_type": "stream",
          "name": "stdout",
          "text": [
            "fatal: destination path 'ZS-CLIP-AC-naive' already exists and is not an empty directory.\n"
          ]
        }
      ]
    },
    {
      "cell_type": "code",
      "source": [
        "#@title Configure git user\n",
        "!git config --global user.email \"preethshivani99@gmail.com\"\n",
        "!git config --global user.name \"PreethShivani\""
      ],
      "metadata": {
        "id": "zLGzAuCBwyry"
      },
      "execution_count": 4,
      "outputs": []
    },
    {
      "cell_type": "code",
      "source": [
        "#@title Move to the repo for subsequent work\n",
        "%cd /content/ZS-CLIP-AC-naive\n",
        "\n",
        "!git branch -a"
      ],
      "metadata": {
        "id": "sYD_wdCBut3I",
        "colab": {
          "base_uri": "https://localhost:8080/"
        },
        "outputId": "1e791856-ca4e-4ed3-a810-0f2336643aed"
      },
      "execution_count": 5,
      "outputs": [
        {
          "output_type": "stream",
          "name": "stdout",
          "text": [
            "/content/ZS-CLIP-AC-naive\n",
            "  feature/template-code\u001b[m\n",
            "* \u001b[32mmain\u001b[m\n",
            "  \u001b[31mremotes/origin/HEAD\u001b[m -> origin/main\n",
            "  \u001b[31mremotes/origin/feature/template-code\u001b[m\n",
            "  \u001b[31mremotes/origin/main\u001b[m\n"
          ]
        }
      ]
    },
    {
      "cell_type": "code",
      "source": [
        "#@title TO DO: Checkout the EXISTING feature branch in the repository. What's it called? How do you find the names of existing branches?\n",
        "# DO NOT create a new branch!\n",
        "!git checkout\n",
        "\n",
        "# The feature branch is called feature/template-code. I found it by running git branch -a, which lists all branches"
      ],
      "metadata": {
        "id": "l4KFkPXUvu8U",
        "colab": {
          "base_uri": "https://localhost:8080/"
        },
        "outputId": "2f682d20-42bb-4305-de76-164143a80e32"
      },
      "execution_count": 6,
      "outputs": [
        {
          "output_type": "stream",
          "name": "stdout",
          "text": [
            "Your branch is ahead of 'origin/main' by 3 commits.\n",
            "  (use \"git push\" to publish your local commits)\n"
          ]
        }
      ]
    },
    {
      "cell_type": "code",
      "source": [
        "# Going to the Feature feature/template-code branch\n",
        "!git checkout -b feature/template-code origin/feature/template-code"
      ],
      "metadata": {
        "colab": {
          "base_uri": "https://localhost:8080/"
        },
        "id": "82_IbK9m4Moh",
        "outputId": "c30f745d-a3f6-4e35-8439-c18c1a516775"
      },
      "execution_count": 7,
      "outputs": [
        {
          "output_type": "stream",
          "name": "stdout",
          "text": [
            "fatal: A branch named 'feature/template-code' already exists.\n"
          ]
        }
      ]
    },
    {
      "cell_type": "code",
      "source": [
        "!git branch -vv"
      ],
      "metadata": {
        "colab": {
          "base_uri": "https://localhost:8080/"
        },
        "id": "8hFyxmRp40Uw",
        "outputId": "6bbee3f0-5ba1-4e68-dcc7-3341acac678d"
      },
      "execution_count": 8,
      "outputs": [
        {
          "output_type": "stream",
          "name": "stdout",
          "text": [
            "  feature/template-code\u001b[m 61e5387 [\u001b[34morigin/feature/template-code\u001b[m: ahead 1] Implemented defect classification with WinCLIP prompts and observations\n",
            "* \u001b[32mmain                 \u001b[m 61e5387 [\u001b[34morigin/main\u001b[m: ahead 3] Implemented defect classification with WinCLIP prompts and observations\n"
          ]
        }
      ]
    },
    {
      "cell_type": "code",
      "source": [
        "#@title Verify that the files appear here\n",
        "!ls"
      ],
      "metadata": {
        "id": "8KNo7_WGyQB4",
        "colab": {
          "base_uri": "https://localhost:8080/"
        },
        "outputId": "3a41851c-456e-49fe-f064-9d82725e20ab"
      },
      "execution_count": 9,
      "outputs": [
        {
          "output_type": "stream",
          "name": "stdout",
          "text": [
            "clip_ac.py  data  __pycache__  README.md  requirements.txt  spec.py\n"
          ]
        }
      ]
    },
    {
      "cell_type": "code",
      "source": [
        "#@title Move images for the hazelnut subset from the test split to the `data` folder in the repository\n",
        "!cp /content/test/img/hazelnut_* data/"
      ],
      "metadata": {
        "id": "E4G1dClq4Srj"
      },
      "execution_count": 10,
      "outputs": []
    },
    {
      "cell_type": "code",
      "source": [
        "#@title Install the requirements from the `requirements.txt` file\n",
        "!pip install -qr requirements.txt"
      ],
      "metadata": {
        "id": "OhyMN6QOyyzu",
        "colab": {
          "base_uri": "https://localhost:8080/"
        },
        "outputId": "7a41a334-82aa-4977-f292-b1b0f3befe89"
      },
      "execution_count": 11,
      "outputs": [
        {
          "output_type": "stream",
          "name": "stdout",
          "text": [
            "  Preparing metadata (setup.py) ... \u001b[?25l\u001b[?25hdone\n"
          ]
        }
      ]
    },
    {
      "cell_type": "markdown",
      "source": [
        "# Implementation\n",
        "\n",
        "Go through the [CLIP github repo](https://github.com/openai/CLIP) to understand zero-shot classification. Go through section 4.1 in the [WinCLIP paper](https://arxiv.org/abs/2303.14814) to understand zero-shot anomaly classification; they call this `CLIP-AC`.\n",
        "\n",
        "Your task is to extend anomaly classification (just normal vs defective) to do defect classification (normal vs different categories of defects) using the CLIP model.\n",
        "\n",
        "Your model should predict non-defective images as \"good\". For defective images, the defect category should be predicted as the class name. See the image filenames to know the defect categories; or see the [MVTec-AD dataset details](https://openaccess.thecvf.com/content_CVPR_2019/papers/Bergmann_MVTec_AD_--_A_Comprehensive_Real-World_Dataset_for_Unsupervised_Anomaly_CVPR_2019_paper.pdf). This task is only for the `hazelnut` subset.\n",
        "\n",
        "Note that the 'clip' package from OpenAI is installed as part of the requirements in the previous cell."
      ],
      "metadata": {
        "id": "HuBG3dDi8FAm"
      }
    },
    {
      "cell_type": "code",
      "source": [
        "#@title TO DO: Modify `spec.py` and save its contents\n",
        "%%writefile spec.py\n",
        "\"\"\"\n",
        "Spec containing the configuration for the defect classification task\n",
        "\"\"\"\n",
        "from pydantic import BaseModel\n",
        "\n",
        "\n",
        "class DefectClassificationSpec(BaseModel):\n",
        "    \"\"\"\n",
        "    Configuration for defect classification.\n",
        "\n",
        "    Attributes:\n",
        "        class_names: List[str]; The list of class names (normal, defect categories).\n",
        "        prompts: List[str]; The list of prompts corresponding to the class names.\n",
        "        model_name (str): Name of the CLIP model variant to use.\n",
        "    \"\"\"\n",
        "    # TODO: Define attributes here with appropriate types and default values if any.\n",
        "    model_name: str = \"ViT-B/32\"\n",
        "    class_names: list[str] = [\"good\",\"crack\", \"cut\", \"hole\", \"print\"]\n",
        "    prompts: list[list[str]] = [\n",
        "    # good\n",
        "    [\"A perfect hazelnut with smooth unblemished shell\",\n",
        "     \"A flawless hazelnut with natural brown surface\",\n",
        "     \"A pristine nut showing no defects or damage\",\n",
        "     \"hazelnut with perfect brown shell surface no holes cracks cuts\",\n",
        "     \"brown hazelnut showing flawless natural texture not damaged\",\n",
        "    ],\n",
        "\n",
        "    # crack\n",
        "    [\n",
        "        \"A photo of a hazelnut with a visible crack on its shell\",\n",
        "        \"A hazelnut with a broken shell\",\n",
        "        \"A fractured hazelnut shell\",\n",
        "        \"A damaged hazelnut with cracks running across the surface\"\n",
        "    ],\n",
        "\n",
        "    # cut\n",
        "    [\n",
        "        \"A hazelnut with a straight cut through the shell\",\n",
        "        \"A hazelnut with a linear split or division\",\n",
        "        \"A nut showing clean cut lines or separations\",\n",
        "        \"hazelnut with straight cut line through brown shell no surface stains\",\n",
        "        \"brown hazelnut showing linear cut separation not ink marks\",\n",
        "        \"whole hazelnut with clean cut division no printing defects\"\n",
        "    ],\n",
        "\n",
        "    # hole\n",
        "    [\n",
        "        \"A hazelnut with a round hole in the shell and a crack running across the shell\",\n",
        "        \"A hazelnut with a circular opening or cavity\",\n",
        "        \"A nut showing drilled holes or puncture marks that is combined with a visible crack\",\n",
        "        \"hazelnut with small round hole opening through brown shell no surface stains\",\n",
        "        \"brown hazelnut shell showing circular cavity puncture not ink marks\",\n",
        "        \"whole hazelnut with drilled opening hole damage no printing defects\"\n",
        "    ],\n",
        "\n",
        "    # print\n",
        "    [\n",
        "        \"A hazelnut with an abnormal surface mark\",\n",
        "        \"A hazelnut with a print-like defect or stain\",\n",
        "        \"A nut showing unwanted imprints or irregular patterns\",\n",
        "        \"hazelnut with ink stain printing mark surface discoloration no cracks\",\n",
        "        \"hazelnut shell showing pressed imprint stamp pattern not cut\",\n",
        "        \"whole hazelnut with colored marking surface stain blotch no sharp edges\"\n",
        "    ]\n",
        "]\n"
      ],
      "metadata": {
        "id": "n42_SESSvxgn",
        "colab": {
          "base_uri": "https://localhost:8080/"
        },
        "outputId": "ad8b199f-1e43-4433-8aa0-15f59030fb4e"
      },
      "execution_count": 12,
      "outputs": [
        {
          "output_type": "stream",
          "name": "stdout",
          "text": [
            "Overwriting spec.py\n"
          ]
        }
      ]
    },
    {
      "cell_type": "code",
      "source": [
        "#@title TO DO: Modify `clip_ac.py` and save its contents\n",
        "%%writefile clip_ac.py\n",
        "\"\"\"\n",
        "Zero-shot defect classification using CLIP\n",
        "\"\"\"\n",
        "\n",
        "import clip\n",
        "import torch\n",
        "from PIL import Image\n",
        "from pathlib import Path\n",
        "from typing import List, Tuple\n",
        "from collections import Counter\n",
        "from spec import DefectClassificationSpec\n",
        "import torchvision.transforms as T\n",
        "\n",
        "def classify_defects(test_dir, spec, return_paths=False):\n",
        "    \"\"\"\n",
        "    Zero-shot defect classification using CLIP.\n",
        "\n",
        "    Args:\n",
        "        spec: Pydantic spec containing prompts and model name.\n",
        "        test_dir: Path to the test dataset root.\n",
        "                For this task, we expect filenames to indicate the ground-truth label.\n",
        "                E.g. `hazelnut_print_*.png` indicates an image with the 'print' defect class.\n",
        "                There are a few other kinds of defects too; find these from the file names.\n",
        "                `hazelnut_good_*.png` indicates an image of the good/normal class.\n",
        "\n",
        "    Returns:\n",
        "        y_true: list of ground-truth labels\n",
        "        y_pred: list of predicted labels\n",
        "    \"\"\"\n",
        "    # Load model\n",
        "    device = \"cuda\" if torch.cuda.is_available() else \"cpu\"\n",
        "    model, preprocess = clip.load(spec.model_name, device=device)\n",
        "\n",
        "    # TODO: Load images and labels from test_dir\n",
        "    test_dir = Path(test_dir)\n",
        "\n",
        "    # Restricting to hazelnut subset only\n",
        "    img_paths = sorted(test_dir.glob(\"hazelnut_*.png\"))\n",
        "\n",
        "    images = []\n",
        "    labels = []\n",
        "    file_paths = []\n",
        "    valid_labels = set(spec.class_names)\n",
        "\n",
        "    for img_path in img_paths:\n",
        "        # Extract label robustly: pick the token that matches one of the known class names\n",
        "        parts = img_path.stem.split(\"_\")\n",
        "        label = next((t for t in parts if t in valid_labels), None)\n",
        "        if label is None:\n",
        "           continue  # skip files that don’t match our labels\n",
        "\n",
        "        img = Image.open(img_path).convert(\"RGB\")\n",
        "        images.append(preprocess(img).unsqueeze(0))\n",
        "        labels.append(label)\n",
        "        file_paths.append(str(img_path))\n",
        "\n",
        "    # To see how many per true label\n",
        "    print(\"Counts per true label:\", Counter(labels))\n",
        "\n",
        "    # TODO: Encode text prompts for all the classes\n",
        "    text_features = []\n",
        "    with torch.no_grad():\n",
        "        for prompts in spec.prompts:\n",
        "            tokens = clip.tokenize(prompts).to(device)\n",
        "            encodings = model.encode_text(tokens)\n",
        "            encodings = encodings / encodings.norm(dim=-1, keepdim=True)\n",
        "            mean_encoding = encodings.mean(dim=0)\n",
        "            mean_encoding = mean_encoding / mean_encoding.norm()\n",
        "            text_features.append(mean_encoding)\n",
        "\n",
        "    text_features = torch.stack(text_features).to(device)\n",
        "\n",
        "    # TODO: Compare image features to text features, choose predicted label\n",
        "    y_true = []\n",
        "    y_pred = []\n",
        "\n",
        "    with torch.no_grad():\n",
        "        for img, label in zip(images, labels):\n",
        "            img = img.to(device)\n",
        "\n",
        "            # 1. Encode image → feature vector\n",
        "            image_features = model.encode_image(img)\n",
        "            image_features = image_features / image_features.norm(dim=-1, keepdim=True)\n",
        "\n",
        "            # 2. Compute similarity with all text features\n",
        "            similarity = (image_features @ text_features.T)  # shape: [1, num_classes]\n",
        "\n",
        "            # 3. Pick the class with highest similarity\n",
        "            pred_idx = similarity.argmax(dim=-1).item()\n",
        "            pred_label = spec.class_names[pred_idx]\n",
        "\n",
        "            # 4. Collect results\n",
        "            y_true.append(label)\n",
        "            y_pred.append(pred_label)\n",
        "\n",
        "    # TODO: Return lists y_true and y_pred\n",
        "    if return_paths:\n",
        "        return  y_true,y_pred, file_paths\n",
        "    else:\n",
        "        return  y_true,y_pred\n",
        "\n"
      ],
      "metadata": {
        "colab": {
          "base_uri": "https://localhost:8080/"
        },
        "id": "UOaRwuRZLpzB",
        "outputId": "d1ddae9a-224d-4e4d-d2a0-f7269f0bdd73"
      },
      "execution_count": 13,
      "outputs": [
        {
          "output_type": "stream",
          "name": "stdout",
          "text": [
            "Overwriting clip_ac.py\n"
          ]
        }
      ]
    },
    {
      "cell_type": "code",
      "source": [
        "#@title TO DO: Run the defect classification code\n",
        "from pathlib import Path\n",
        "from spec import DefectClassificationSpec\n",
        "from clip_ac import classify_defects\n",
        "\n",
        "# Create the spec for the 'hazelnut' subset\n",
        "defect_spec = DefectClassificationSpec()\n",
        "\n",
        "test_dir = Path(\"data\")\n",
        "y_true,y_pred,file_paths = classify_defects(test_dir, defect_spec, return_paths=True)\n",
        "\n",
        "for path, true_label, pred_label in zip(file_paths, y_true, y_pred):\n",
        "    print(f\"Image: {Path(path).name} | True: {true_label} | Predicted: {pred_label}\")"
      ],
      "metadata": {
        "id": "KFk0HjcZ8ZrZ",
        "colab": {
          "base_uri": "https://localhost:8080/"
        },
        "outputId": "450762d2-2134-4ad7-e4a9-19e241c53c1a"
      },
      "execution_count": 14,
      "outputs": [
        {
          "output_type": "stream",
          "name": "stdout",
          "text": [
            "Counts per true label: Counter({'print': 10, 'hole': 4, 'good': 2, 'crack': 1, 'cut': 1})\n",
            "Image: hazelnut_crack_002.png | True: crack | Predicted: crack\n",
            "Image: hazelnut_cut_003.png | True: cut | Predicted: print\n",
            "Image: hazelnut_good_023.png | True: good | Predicted: good\n",
            "Image: hazelnut_good_037.png | True: good | Predicted: hole\n",
            "Image: hazelnut_hole_005.png | True: hole | Predicted: hole\n",
            "Image: hazelnut_hole_010.png | True: hole | Predicted: crack\n",
            "Image: hazelnut_hole_013.png | True: hole | Predicted: crack\n",
            "Image: hazelnut_hole_016.png | True: hole | Predicted: hole\n",
            "Image: hazelnut_print_003.png | True: print | Predicted: print\n",
            "Image: hazelnut_print_004.png | True: print | Predicted: print\n",
            "Image: hazelnut_print_005.png | True: print | Predicted: print\n",
            "Image: hazelnut_print_006.png | True: print | Predicted: print\n",
            "Image: hazelnut_print_007.png | True: print | Predicted: print\n",
            "Image: hazelnut_print_009.png | True: print | Predicted: print\n",
            "Image: hazelnut_print_011.png | True: print | Predicted: print\n",
            "Image: hazelnut_print_012.png | True: print | Predicted: hole\n",
            "Image: hazelnut_print_013.png | True: print | Predicted: print\n",
            "Image: hazelnut_print_016.png | True: print | Predicted: print\n"
          ]
        }
      ]
    },
    {
      "cell_type": "code",
      "source": [
        "#@title TO DO: Print the confusion matrix using the predictions and ground truth labels\n",
        "\n",
        "from sklearn.metrics import confusion_matrix, ConfusionMatrixDisplay\n",
        "import matplotlib.pyplot as plt\n",
        "\n",
        "# Compute the confusion matrix\n",
        "cm = confusion_matrix(y_true, y_pred, labels=defect_spec.class_names)\n",
        "\n",
        "# Display it\n",
        "disp = ConfusionMatrixDisplay(confusion_matrix=cm, display_labels=defect_spec.class_names)\n",
        "disp.plot(cmap=plt.cm.Reds)\n",
        "plt.xticks(rotation=45)\n",
        "plt.show()\n"
      ],
      "metadata": {
        "id": "06ea5MK29WdT",
        "colab": {
          "base_uri": "https://localhost:8080/",
          "height": 477
        },
        "outputId": "9d5907e6-dc18-4944-b245-259e22079bf9"
      },
      "execution_count": 15,
      "outputs": [
        {
          "output_type": "display_data",
          "data": {
            "text/plain": [
              "<Figure size 640x480 with 2 Axes>"
            ],
            "image/png": "[encoded data removed]"
          },
          "metadata": {}
        }
      ]
    },
    {
      "cell_type": "markdown",
      "source": [
        "## Observations (TO DO)\n",
        "\n",
        "What did you observe? Will a different classification spec improve things? If yes, then try it out below.\n",
        "\n",
        "##**Observations – Confusion Matrix**##\n",
        "\n",
        "I analyzed the confusion matrix to understand class-level performance. **For example, “good” images were sometimes misclassified as “hole,” “hole” images were often misclassified as “crack,” and “cut” samples as “print.” In contrast, “print” had the strongest performance, being mostly classified correctly.** This highlights that the model struggles with subtle defect differences, a limitation amplified by the small dataset size.\n",
        "\n",
        "## **Experimentation with Prompts and Augmentation**##\n",
        "\n",
        "In the first specification, I used the **ViT-B/32** model, and in the second specification, I switched to the **ViT-B/16 model along with shorter and refined prompts.** However, this change did not significantly improve classification accuracy. I also attempted **image augmentation techniques, such as positional shifts and transformations**, though the code is not included here. Despite these efforts, the misclassification patterns largely remained unchanged.\n",
        "## **Iterative Prompt Adjustment**##\n",
        "\n",
        "I further examined which images were misclassified and iteratively adjusted the prompts in response. However, this approach also failed to resolve the issue, again due to the **limited number of images per class**, which restricted the model’s ability to generalize effectively.\n",
        "\n",
        "##**Conclusion**##\n",
        "\n",
        "From these experiments, I observed that while WinCLIP provides a strong foundation for zero-shot classification, it faces challenges in fine-grained industrial defect detection when datasets are small. **Misclassifications persisted despite prompt engineering and image augmentation.** To achieve robust performance, the approach requires larger datasets, targeted fine-tuning, or complementary methods beyond zero-shot prompting alone.\n",
        "\n"
      ],
      "metadata": {
        "id": "Ue3yl27g98Br"
      }
    },
    {
      "cell_type": "markdown",
      "source": [
        "## [Optional/Bonus] Rerun 1: With a different spec"
      ],
      "metadata": {
        "id": "gQwmPBQm-LBc"
      }
    },
    {
      "cell_type": "code",
      "source": [
        "from spec import DefectClassificationSpec\n",
        "\n",
        "# New spec with simpler and shorter prompts\n",
        "defect_spec_v2 = DefectClassificationSpec(\n",
        "    model_name=\"ViT-B/16\",   # Trying out a different model\n",
        "    class_names=[\"good\", \"crack\", \"cut\", \"hole\", \"print\"],\n",
        "   prompts=[\n",
        "        [\"A photo of a good hazelnut\"],\n",
        "        [\"A photo of a hazelnut with a crack\"],\n",
        "        [\"A photo of a hazelnut with a cut\"],\n",
        "        [\"A photo of a hazelnut with a hole\"],\n",
        "        [\"A photo of a hazelnut with a print defect\"]\n",
        "    ]\n",
        ")\n"
      ],
      "metadata": {
        "id": "elDl6oix-MAE"
      },
      "execution_count": 16,
      "outputs": []
    },
    {
      "cell_type": "code",
      "source": [
        "#Confusion matrix for the new spec\n",
        "y_pred, y_true, file_paths = classify_defects(test_dir, defect_spec_v2, return_paths=True)\n",
        "\n",
        "from sklearn.metrics import confusion_matrix, ConfusionMatrixDisplay\n",
        "import matplotlib.pyplot as plt\n",
        "\n",
        "cm = confusion_matrix(y_true, y_pred, labels=defect_spec_v2.class_names)\n",
        "disp = ConfusionMatrixDisplay(confusion_matrix=cm, display_labels=defect_spec_v2.class_names)\n",
        "disp.plot(cmap=\"Blues\")\n",
        "plt.show()\n"
      ],
      "metadata": {
        "colab": {
          "base_uri": "https://localhost:8080/",
          "height": 473
        },
        "id": "PRAlpys49n0a",
        "outputId": "ed6d7ef0-7774-4ae2-95de-ef860a4b9e69"
      },
      "execution_count": 17,
      "outputs": [
        {
          "output_type": "stream",
          "name": "stdout",
          "text": [
            "Counts per true label: Counter({'print': 10, 'hole': 4, 'good': 2, 'crack': 1, 'cut': 1})\n"
          ]
        },
        {
          "output_type": "display_data",
          "data": {
            "text/plain": [
              "<Figure size 640x480 with 2 Axes>"
            ],
            "image/png": "[encoded data removed]"
          },
          "metadata": {}
        }
      ]
    },
    {
      "cell_type": "code",
      "source": [
        "#@title TO DO: Commit the changes to the python files to the current feature branch\n",
        "\n",
        "# Add modified files (spec.py and clip_ac.py) to staging\n",
        "!git add spec.py clip_ac.py\n",
        "\n",
        "# Commit changes in the feature/template-code branch\n",
        "!git commit -m \"Implemented defect classification with WinCLIP prompts and observations\""
      ],
      "metadata": {
        "id": "xt6lJ9nI8iW2",
        "colab": {
          "base_uri": "https://localhost:8080/"
        },
        "outputId": "943b6f6a-e1b8-4603-d3ce-0a6688a5a06e"
      },
      "execution_count": 18,
      "outputs": [
        {
          "output_type": "stream",
          "name": "stdout",
          "text": [
            "On branch main\n",
            "Your branch is ahead of 'origin/main' by 3 commits.\n",
            "  (use \"git push\" to publish your local commits)\n",
            "\n",
            "Untracked files:\n",
            "  (use \"git add <file>...\" to include in what will be committed)\n",
            "\t\u001b[31m__pycache__/\u001b[m\n",
            "\t\u001b[31mdata/hazelnut_crack_002.png\u001b[m\n",
            "\t\u001b[31mdata/hazelnut_cut_003.png\u001b[m\n",
            "\t\u001b[31mdata/hazelnut_good_023.png\u001b[m\n",
            "\t\u001b[31mdata/hazelnut_good_037.png\u001b[m\n",
            "\t\u001b[31mdata/hazelnut_hole_005.png\u001b[m\n",
            "\t\u001b[31mdata/hazelnut_hole_010.png\u001b[m\n",
            "\t\u001b[31mdata/hazelnut_hole_013.png\u001b[m\n",
            "\t\u001b[31mdata/hazelnut_hole_016.png\u001b[m\n",
            "\t\u001b[31mdata/hazelnut_print_003.png\u001b[m\n",
            "\t\u001b[31mdata/hazelnut_print_004.png\u001b[m\n",
            "\t\u001b[31mdata/hazelnut_print_005.png\u001b[m\n",
            "\t\u001b[31mdata/hazelnut_print_006.png\u001b[m\n",
            "\t\u001b[31mdata/hazelnut_print_007.png\u001b[m\n",
            "\t\u001b[31mdata/hazelnut_print_009.png\u001b[m\n",
            "\t\u001b[31mdata/hazelnut_print_011.png\u001b[m\n",
            "\t\u001b[31mdata/hazelnut_print_012.png\u001b[m\n",
            "\t\u001b[31mdata/hazelnut_print_013.png\u001b[m\n",
            "\t\u001b[31mdata/hazelnut_print_016.png\u001b[m\n",
            "\n",
            "nothing added to commit but untracked files present (use \"git add\" to track)\n"
          ]
        }
      ]
    },
    {
      "cell_type": "code",
      "source": [
        "#@title TO DO: Switch to the main branch, and merge the feature branch into the main branch\n",
        "\n",
        "# Switching from feature branch to main branch\n",
        "!git checkout main\n",
        "\n",
        "# Merging the feature branch into main\n",
        "!git merge feature/template-code"
      ],
      "metadata": {
        "id": "trcQs5Yn8on2",
        "colab": {
          "base_uri": "https://localhost:8080/"
        },
        "outputId": "72e61b0d-bd75-4883-e040-12e789c313d3"
      },
      "execution_count": 19,
      "outputs": [
        {
          "output_type": "stream",
          "name": "stdout",
          "text": [
            "Already on 'main'\n",
            "Your branch is ahead of 'origin/main' by 3 commits.\n",
            "  (use \"git push\" to publish your local commits)\n",
            "Already up to date.\n"
          ]
        }
      ]
    },
    {
      "cell_type": "code",
      "source": [
        "#@title TO DO: Verify git log to see the latest commit\n",
        "!git log --oneline --graph --decorate -n 5"
      ],
      "metadata": {
        "id": "ObNPqILE8t3l",
        "colab": {
          "base_uri": "https://localhost:8080/"
        },
        "outputId": "4bf28465-1285-4fdb-eb8e-2a17efec9600"
      },
      "execution_count": 20,
      "outputs": [
        {
          "output_type": "stream",
          "name": "stdout",
          "text": [
            "* \u001b[33m61e5387\u001b[m\u001b[33m (\u001b[m\u001b[1;36mHEAD -> \u001b[m\u001b[1;32mmain\u001b[m\u001b[33m, \u001b[m\u001b[1;32mfeature/template-code\u001b[m\u001b[33m)\u001b[m Implemented defect classification with WinCLIP prompts and observations\n",
            "* \u001b[33mc9d8665\u001b[m\u001b[33m (\u001b[m\u001b[1;31morigin/feature/template-code\u001b[m\u001b[33m)\u001b[m Update README.md to fix 'References'\n",
            "* \u001b[33m3a22633\u001b[m Template code for the assignment.\n",
            "* \u001b[33md6c1daf\u001b[m\u001b[33m (\u001b[m\u001b[1;31morigin/main\u001b[m\u001b[33m, \u001b[m\u001b[1;31morigin/HEAD\u001b[m\u001b[33m)\u001b[m Basic project structure.\n"
          ]
        }
      ]
    },
    {
      "cell_type": "code",
      "source": [
        "#@title TO DO: Display the changes in the `spec.py` file in the main branch\n",
        "!git show main:spec.py | head -40"
      ],
      "metadata": {
        "id": "9sbVemf88yV9",
        "colab": {
          "base_uri": "https://localhost:8080/"
        },
        "outputId": "6fcfa8da-03bc-4cb3-a59d-f24f4cfa44af"
      },
      "execution_count": 21,
      "outputs": [
        {
          "output_type": "stream",
          "name": "stdout",
          "text": [
            "\"\"\"\n",
            "Spec containing the configuration for the defect classification task\n",
            "\"\"\"\n",
            "from pydantic import BaseModel\n",
            "\n",
            "\n",
            "class DefectClassificationSpec(BaseModel):\n",
            "    \"\"\"\n",
            "    Configuration for defect classification.\n",
            "\n",
            "    Attributes:\n",
            "        class_names: List[str]; The list of class names (normal, defect categories).\n",
            "        prompts: List[str]; The list of prompts corresponding to the class names.\n",
            "        model_name (str): Name of the CLIP model variant to use.\n",
            "    \"\"\"\n",
            "    # TODO: Define attributes here with appropriate types and default values if any.\n",
            "    model_name: str = \"ViT-B/32\"\n",
            "    class_names: list[str] = [\"good\",\"crack\", \"cut\", \"hole\", \"print\"]\n",
            "    prompts: list[list[str]] = [\n",
            "    # good\n",
            "    [\"A perfect hazelnut with smooth unblemished shell\",\n",
            "     \"A flawless hazelnut with natural brown surface\",\n",
            "     \"A pristine nut showing no defects or damage\",\n",
            "     \"hazelnut with perfect brown shell surface no holes cracks cuts\",\n",
            "     \"brown hazelnut showing flawless natural texture not damaged\",\n",
            "    ],\n",
            "\n",
            "    # crack\n",
            "    [\n",
            "        \"A photo of a hazelnut with a visible crack on its shell\",\n",
            "        \"A hazelnut with a broken shell\",\n",
            "        \"A fractured hazelnut shell\",\n",
            "        \"A damaged hazelnut with cracks running across the surface\"\n",
            "    ],\n",
            "\n",
            "    # cut\n",
            "    [\n",
            "        \"A hazelnut with a straight cut through the shell\",\n",
            "        \"A hazelnut with a linear split or division\",\n",
            "        \"A nut showing clean cut lines or separations\",\n"
          ]
        }
      ]
    },
    {
      "cell_type": "markdown",
      "source": [
        "# Submission\n",
        "\n",
        "* Verify that this Colab notebook is owned by you, and in your Google Drive.\n",
        "* Change the 'Share' settings to 'Anyone with the link' - give read access only.\n",
        "* Copy the link to the notebook through the 'Share' settings.\n",
        "* Open a new anonymous browser window, where you are not signed in. Verify that the link you copied opens the notebook, and that all outputs are visible.\n",
        "* Submit this link through the internship application form."
      ],
      "metadata": {
        "id": "b8Deeu1yHHwc"
      }
    }
  ]
}