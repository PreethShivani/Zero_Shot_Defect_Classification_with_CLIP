{
  "nbformat": 4,
  "nbformat_minor": 0,
  "metadata": {
    "colab": {
      "provenance": []
    },
    "kernelspec": {
      "name": "python3",
      "display_name": "Python 3"
    },
    "language_info": {
      "name": "python"
    }
  },
  "cells": [
    {
      "cell_type": "markdown",
      "source": [
        "# Download and extract dataset"
      ],
      "metadata": {
        "id": "vpn8zXSBuREa"
      }
    },
    {
      "cell_type": "code",
      "source": [
        "#@title Download a the dataset sample from Supervisely\n",
        "!curl https://assets.supervisely.com/supervisely-supervisely-assets-public/teams_storage/W/6/pt/ANAGVgKaC62tTrDQWK5JhNP2dd8ynqaTKSM1QdVoAasmTdaLvBwCuW7nCrq9o9lLS2padKnV9QogVGFlEPg7vxEBPIfuFC2Yq7ELNW7xn2t1egLrQPoGpNFJobhh.tar --output mvtec.tar"
      ],
      "metadata": {
        "id": "re_O7sYqsyMm",
        "colab": {
          "base_uri": "https://localhost:8080/"
        },
        "outputId": "828ea1d4-a231-42ad-f090-dae0739ffb59"
      },
      "execution_count": 2,
      "outputs": [
        {
          "output_type": "stream",
          "name": "stdout",
          "text": [
            "  % Total    % Received % Xferd  Average Speed   Time    Time     Time  Current\n",
            "                                 Dload  Upload   Total   Spent    Left  Speed\n",
            "100  548M  100  548M    0     0  21.3M      0  0:00:25  0:00:25 --:--:-- 21.6M\n"
          ]
        }
      ]
    },
    {
      "cell_type": "code",
      "source": [
        "#@title Extract the tarball 'mvtec.tar' and look for test images for the hazelnut subset\n",
        "!tar -xf mvtec.tar\n",
        "!ls test/img/hazelnut_*"
      ],
      "metadata": {
        "id": "MZA-1oGGtLlP",
        "colab": {
          "base_uri": "https://localhost:8080/"
        },
        "outputId": "cdff11d1-f1d0-4420-8485-29c5c674110b"
      },
      "execution_count": 3,
      "outputs": [
        {
          "output_type": "stream",
          "name": "stdout",
          "text": [
            "tar: Removing leading `/' from member names\n",
            "test/img/hazelnut_crack_002.png  test/img/hazelnut_print_004.png\n",
            "test/img/hazelnut_cut_003.png\t test/img/hazelnut_print_005.png\n",
            "test/img/hazelnut_good_023.png\t test/img/hazelnut_print_006.png\n",
            "test/img/hazelnut_good_037.png\t test/img/hazelnut_print_007.png\n",
            "test/img/hazelnut_hole_005.png\t test/img/hazelnut_print_009.png\n",
            "test/img/hazelnut_hole_010.png\t test/img/hazelnut_print_011.png\n",
            "test/img/hazelnut_hole_013.png\t test/img/hazelnut_print_012.png\n",
            "test/img/hazelnut_hole_016.png\t test/img/hazelnut_print_013.png\n",
            "test/img/hazelnut_print_003.png  test/img/hazelnut_print_016.png\n"
          ]
        }
      ]
    },
    {
      "cell_type": "markdown",
      "source": [
        "# Clone the repo\n",
        "\n",
        "This is the repo to clone:\n",
        "\n",
        "https://github.com/akridata-ai/ZS-CLIP-AC-naive"
      ],
      "metadata": {
        "id": "OTxq9DihueUO"
      }
    },
    {
      "cell_type": "code",
      "source": [
        "#@title  Clone the Git repo here, in the Colab runtime\n",
        "!git clone https://github.com/akridata-ai/ZS-CLIP-AC-naive.git"
      ],
      "metadata": {
        "id": "czOSoKfOuhx3",
        "colab": {
          "base_uri": "https://localhost:8080/"
        },
        "outputId": "77095b9f-7a91-4ffe-84fe-75d06a14427c"
      },
      "execution_count": 4,
      "outputs": [
        {
          "output_type": "stream",
          "name": "stdout",
          "text": [
            "Cloning into 'ZS-CLIP-AC-naive'...\n",
            "remote: Enumerating objects: 16, done.\u001b[K\n",
            "remote: Counting objects: 100% (16/16), done.\u001b[K\n",
            "remote: Compressing objects: 100% (14/14), done.\u001b[K\n",
            "remote: Total 16 (delta 2), reused 13 (delta 0), pack-reused 0 (from 0)\u001b[K\n",
            "Receiving objects: 100% (16/16), done.\n",
            "Resolving deltas: 100% (2/2), done.\n"
          ]
        }
      ]
    },
    {
      "cell_type": "code",
      "source": [
        "#@title Configure git user\n",
        "!git config --global user.email \"preethshivani99@gmail.com\"\n",
        "!git config --global user.name \"PreethShivani\""
      ],
      "metadata": {
        "id": "zLGzAuCBwyry"
      },
      "execution_count": 5,
      "outputs": []
    },
    {
      "cell_type": "code",
      "source": [
        "#@title Move to the repo for subsequent work\n",
        "%cd /content/ZS-CLIP-AC-naive\n",
        "\n",
        "!git branch -a"
      ],
      "metadata": {
        "id": "sYD_wdCBut3I",
        "colab": {
          "base_uri": "https://localhost:8080/"
        },
        "outputId": "5ed207f5-60f0-4b0b-991c-63db6cdec686"
      },
      "execution_count": 6,
      "outputs": [
        {
          "output_type": "stream",
          "name": "stdout",
          "text": [
            "/content/ZS-CLIP-AC-naive\n",
            "* \u001b[32mmain\u001b[m\n",
            "  \u001b[31mremotes/origin/HEAD\u001b[m -> origin/main\n",
            "  \u001b[31mremotes/origin/feature/template-code\u001b[m\n",
            "  \u001b[31mremotes/origin/main\u001b[m\n"
          ]
        }
      ]
    },
    {
      "cell_type": "code",
      "source": [
        "# Going to the Feature feature/template-code branch\n",
        "!git checkout -b feature/template-code origin/feature/template-code"
      ],
      "metadata": {
        "colab": {
          "base_uri": "https://localhost:8080/"
        },
        "id": "82_IbK9m4Moh",
        "outputId": "4582fc33-a730-4b45-bb98-003b6ee4f7f3"
      },
      "execution_count": 8,
      "outputs": [
        {
          "output_type": "stream",
          "name": "stdout",
          "text": [
            "Branch 'feature/template-code' set up to track remote branch 'feature/template-code' from 'origin'.\n",
            "Switched to a new branch 'feature/template-code'\n"
          ]
        }
      ]
    },
    {
      "cell_type": "code",
      "source": [
        "!git branch -vv"
      ],
      "metadata": {
        "colab": {
          "base_uri": "https://localhost:8080/"
        },
        "id": "8hFyxmRp40Uw",
        "outputId": "8547d7b8-c77a-408e-f373-2060346e7020"
      },
      "execution_count": 9,
      "outputs": [
        {
          "output_type": "stream",
          "name": "stdout",
          "text": [
            "* \u001b[32mfeature/template-code\u001b[m c9d8665 [\u001b[34morigin/feature/template-code\u001b[m] Update README.md to fix 'References'\n",
            "  main                 \u001b[m d6c1daf [\u001b[34morigin/main\u001b[m] Basic project structure.\n"
          ]
        }
      ]
    },
    {
      "cell_type": "code",
      "source": [
        "#@title Verify that the files appear here\n",
        "!ls"
      ],
      "metadata": {
        "id": "8KNo7_WGyQB4",
        "colab": {
          "base_uri": "https://localhost:8080/"
        },
        "outputId": "674606d1-a7c9-48f5-80fc-18e060668069"
      },
      "execution_count": 10,
      "outputs": [
        {
          "output_type": "stream",
          "name": "stdout",
          "text": [
            "clip_ac.py  data  README.md  requirements.txt  spec.py\n"
          ]
        }
      ]
    },
    {
      "cell_type": "code",
      "source": [
        "#@title Move images for the hazelnut subset from the test split to the `data` folder in the repository\n",
        "!cp /content/test/img/hazelnut_* data/"
      ],
      "metadata": {
        "id": "E4G1dClq4Srj"
      },
      "execution_count": 11,
      "outputs": []
    },
    {
      "cell_type": "code",
      "source": [
        "#@title Install the requirements from the `requirements.txt` file\n",
        "!pip install -qr requirements.txt"
      ],
      "metadata": {
        "id": "OhyMN6QOyyzu",
        "colab": {
          "base_uri": "https://localhost:8080/"
        },
        "outputId": "396d8f14-49c1-4933-d860-a0e04a0f00fc"
      },
      "execution_count": 12,
      "outputs": [
        {
          "output_type": "stream",
          "name": "stdout",
          "text": [
            "  Preparing metadata (setup.py) ... \u001b[?25l\u001b[?25hdone\n",
            "\u001b[2K   \u001b[90m━━━━━━━━━━━━━━━━━━━━━━━━━━━━━━━━━━━━━━━━\u001b[0m \u001b[32m44.8/44.8 kB\u001b[0m \u001b[31m1.6 MB/s\u001b[0m eta \u001b[36m0:00:00\u001b[0m\n",
            "\u001b[?25h  Building wheel for clip (setup.py) ... \u001b[?25l\u001b[?25hdone\n"
          ]
        }
      ]
    },
    {
      "cell_type": "code",
      "source": [
        "#@title Modify `spec.py` and save its contents\n",
        "%%writefile spec.py\n",
        "\"\"\"\n",
        "Spec containing the configuration for the defect classification task\n",
        "\"\"\"\n",
        "from pydantic import BaseModel\n",
        "\n",
        "\n",
        "class DefectClassificationSpec(BaseModel):\n",
        "    \"\"\"\n",
        "    Configuration for defect classification.\n",
        "\n",
        "    Attributes:\n",
        "        class_names: List[str]; The list of class names (normal, defect categories).\n",
        "        prompts: List[str]; The list of prompts corresponding to the class names.\n",
        "        model_name (str): Name of the CLIP model variant to use.\n",
        "    \"\"\"\n",
        "    # Define attributes here with appropriate types and default values if any.\n",
        "    model_name: str = \"ViT-B/32\"\n",
        "    class_names: list[str] = [\"good\",\"crack\", \"cut\", \"hole\", \"print\"]\n",
        "    prompts: list[list[str]] = [\n",
        "    # good\n",
        "    [\"A perfect hazelnut with smooth unblemished shell\",\n",
        "     \"A flawless hazelnut with natural brown surface\",\n",
        "     \"A pristine nut showing no defects or damage\",\n",
        "     \"hazelnut with perfect brown shell surface no holes cracks cuts\",\n",
        "     \"brown hazelnut showing flawless natural texture not damaged\",\n",
        "    ],\n",
        "\n",
        "    # crack\n",
        "    [\n",
        "        \"A photo of a hazelnut with a visible crack on its shell\",\n",
        "        \"A hazelnut with a broken shell\",\n",
        "        \"A fractured hazelnut shell\",\n",
        "        \"A damaged hazelnut with cracks running across the surface\"\n",
        "    ],\n",
        "\n",
        "    # cut\n",
        "    [\n",
        "        \"A hazelnut with a straight cut through the shell\",\n",
        "        \"A hazelnut with a linear split or division\",\n",
        "        \"A nut showing clean cut lines or separations\",\n",
        "        \"hazelnut with straight cut line through brown shell no surface stains\",\n",
        "        \"brown hazelnut showing linear cut separation not ink marks\",\n",
        "        \"whole hazelnut with clean cut division no printing defects\"\n",
        "    ],\n",
        "\n",
        "    # hole\n",
        "    [\n",
        "        \"A hazelnut with a round hole in the shell and a crack running across the shell\",\n",
        "        \"A hazelnut with a circular opening or cavity\",\n",
        "        \"A nut showing drilled holes or puncture marks that is combined with a visible crack\",\n",
        "        \"hazelnut with small round hole opening through brown shell no surface stains\",\n",
        "        \"brown hazelnut shell showing circular cavity puncture not ink marks\",\n",
        "        \"whole hazelnut with drilled opening hole damage no printing defects\"\n",
        "    ],\n",
        "\n",
        "    # print\n",
        "    [\n",
        "        \"A hazelnut with an abnormal surface mark\",\n",
        "        \"A hazelnut with a print-like defect or stain\",\n",
        "        \"A nut showing unwanted imprints or irregular patterns\",\n",
        "        \"hazelnut with ink stain printing mark surface discoloration no cracks\",\n",
        "        \"hazelnut shell showing pressed imprint stamp pattern not cut\",\n",
        "        \"whole hazelnut with colored marking surface stain blotch no sharp edges\"\n",
        "    ]\n",
        "]\n"
      ],
      "metadata": {
        "id": "n42_SESSvxgn",
        "colab": {
          "base_uri": "https://localhost:8080/"
        },
        "outputId": "dabb09a0-7004-4a55-dcd4-08d1cbdfbaf3"
      },
      "execution_count": 13,
      "outputs": [
        {
          "output_type": "stream",
          "name": "stdout",
          "text": [
            "Overwriting spec.py\n"
          ]
        }
      ]
    },
    {
      "cell_type": "code",
      "source": [
        "#@title  Modify `clip_ac.py` and save its contents\n",
        "%%writefile clip_ac.py\n",
        "\"\"\"\n",
        "Zero-shot defect classification using CLIP\n",
        "\"\"\"\n",
        "\n",
        "import clip\n",
        "import torch\n",
        "from PIL import Image\n",
        "from pathlib import Path\n",
        "from typing import List, Tuple\n",
        "from collections import Counter\n",
        "from spec import DefectClassificationSpec\n",
        "import torchvision.transforms as T\n",
        "\n",
        "def classify_defects(test_dir, spec, return_paths=False):\n",
        "    \"\"\"\n",
        "    Zero-shot defect classification using CLIP.\n",
        "\n",
        "    Args:\n",
        "        spec: Pydantic spec containing prompts and model name.\n",
        "        test_dir: Path to the test dataset root.\n",
        "                For this task, we expect filenames to indicate the ground-truth label.\n",
        "                E.g. `hazelnut_print_*.png` indicates an image with the 'print' defect class.\n",
        "                There are a few other kinds of defects too; find these from the file names.\n",
        "                `hazelnut_good_*.png` indicates an image of the good/normal class.\n",
        "\n",
        "    Returns:\n",
        "        y_true: list of ground-truth labels\n",
        "        y_pred: list of predicted labels\n",
        "    \"\"\"\n",
        "    # Load model\n",
        "    device = \"cuda\" if torch.cuda.is_available() else \"cpu\"\n",
        "    model, preprocess = clip.load(spec.model_name, device=device)\n",
        "\n",
        "    #  Load images and labels from test_dir\n",
        "    test_dir = Path(test_dir)\n",
        "\n",
        "    # Restricting to hazelnut subset only\n",
        "    img_paths = sorted(test_dir.glob(\"hazelnut_*.png\"))\n",
        "\n",
        "    images = []\n",
        "    labels = []\n",
        "    file_paths = []\n",
        "    valid_labels = set(spec.class_names)\n",
        "\n",
        "    for img_path in img_paths:\n",
        "        # Extract label robustly: pick the token that matches one of the known class names\n",
        "        parts = img_path.stem.split(\"_\")\n",
        "        label = next((t for t in parts if t in valid_labels), None)\n",
        "        if label is None:\n",
        "           continue  # skip files that don’t match our labels\n",
        "\n",
        "        img = Image.open(img_path).convert(\"RGB\")\n",
        "        images.append(preprocess(img).unsqueeze(0))\n",
        "        labels.append(label)\n",
        "        file_paths.append(str(img_path))\n",
        "\n",
        "    # To see how many per true label\n",
        "    print(\"Counts per true label:\", Counter(labels))\n",
        "\n",
        "    #  Encode text prompts for all the classes\n",
        "    text_features = []\n",
        "    with torch.no_grad():\n",
        "        for prompts in spec.prompts:\n",
        "            tokens = clip.tokenize(prompts).to(device)\n",
        "            encodings = model.encode_text(tokens)\n",
        "            encodings = encodings / encodings.norm(dim=-1, keepdim=True)\n",
        "            mean_encoding = encodings.mean(dim=0)\n",
        "            mean_encoding = mean_encoding / mean_encoding.norm()\n",
        "            text_features.append(mean_encoding)\n",
        "\n",
        "    text_features = torch.stack(text_features).to(device)\n",
        "\n",
        "    #  Compare image features to text features, choose predicted label\n",
        "    y_true = []\n",
        "    y_pred = []\n",
        "\n",
        "    with torch.no_grad():\n",
        "        for img, label in zip(images, labels):\n",
        "            img = img.to(device)\n",
        "\n",
        "            # 1. Encode image → feature vector\n",
        "            image_features = model.encode_image(img)\n",
        "            image_features = image_features / image_features.norm(dim=-1, keepdim=True)\n",
        "\n",
        "            # 2. Compute similarity with all text features\n",
        "            similarity = (image_features @ text_features.T)  # shape: [1, num_classes]\n",
        "\n",
        "            # 3. Pick the class with highest similarity\n",
        "            pred_idx = similarity.argmax(dim=-1).item()\n",
        "            pred_label = spec.class_names[pred_idx]\n",
        "\n",
        "            # 4. Collect results\n",
        "            y_true.append(label)\n",
        "            y_pred.append(pred_label)\n",
        "\n",
        "    #  Return lists y_true and y_pred\n",
        "    if return_paths:\n",
        "        return  y_true,y_pred, file_paths\n",
        "    else:\n",
        "        return  y_true,y_pred\n",
        "\n"
      ],
      "metadata": {
        "colab": {
          "base_uri": "https://localhost:8080/"
        },
        "id": "UOaRwuRZLpzB",
        "outputId": "c05d2958-9c33-4aef-f07f-35e878ae533f"
      },
      "execution_count": 14,
      "outputs": [
        {
          "output_type": "stream",
          "name": "stdout",
          "text": [
            "Overwriting clip_ac.py\n"
          ]
        }
      ]
    },
    {
      "cell_type": "code",
      "source": [
        "#@title  Run the defect classification code\n",
        "from pathlib import Path\n",
        "from spec import DefectClassificationSpec\n",
        "from clip_ac import classify_defects\n",
        "\n",
        "# Create the spec for the 'hazelnut' subset\n",
        "defect_spec = DefectClassificationSpec()\n",
        "\n",
        "test_dir = Path(\"data\")\n",
        "y_pred, y_true, file_paths = classify_defects(test_dir, defect_spec, return_paths=True)\n",
        "\n",
        "for path, true_label, pred_label in zip(file_paths, y_true, y_pred):\n",
        "    print(f\"Image: {Path(path).name} | True: {true_label} | Predicted: {pred_label}\")"
      ],
      "metadata": {
        "id": "KFk0HjcZ8ZrZ",
        "colab": {
          "base_uri": "https://localhost:8080/"
        },
        "outputId": "e2295082-18b0-4f89-d6fe-459d56a75226"
      },
      "execution_count": 15,
      "outputs": [
        {
          "output_type": "stream",
          "name": "stderr",
          "text": [
            "100%|███████████████████████████████████████| 338M/338M [00:09<00:00, 39.0MiB/s]\n"
          ]
        },
        {
          "output_type": "stream",
          "name": "stdout",
          "text": [
            "Counts per true label: Counter({'print': 10, 'hole': 4, 'good': 2, 'crack': 1, 'cut': 1})\n",
            "Image: hazelnut_crack_002.png | True: crack | Predicted: crack\n",
            "Image: hazelnut_cut_003.png | True: print | Predicted: cut\n",
            "Image: hazelnut_good_023.png | True: good | Predicted: good\n",
            "Image: hazelnut_good_037.png | True: hole | Predicted: good\n",
            "Image: hazelnut_hole_005.png | True: hole | Predicted: hole\n",
            "Image: hazelnut_hole_010.png | True: crack | Predicted: hole\n",
            "Image: hazelnut_hole_013.png | True: crack | Predicted: hole\n",
            "Image: hazelnut_hole_016.png | True: hole | Predicted: hole\n",
            "Image: hazelnut_print_003.png | True: print | Predicted: print\n",
            "Image: hazelnut_print_004.png | True: print | Predicted: print\n",
            "Image: hazelnut_print_005.png | True: print | Predicted: print\n",
            "Image: hazelnut_print_006.png | True: print | Predicted: print\n",
            "Image: hazelnut_print_007.png | True: print | Predicted: print\n",
            "Image: hazelnut_print_009.png | True: print | Predicted: print\n",
            "Image: hazelnut_print_011.png | True: print | Predicted: print\n",
            "Image: hazelnut_print_012.png | True: hole | Predicted: print\n",
            "Image: hazelnut_print_013.png | True: print | Predicted: print\n",
            "Image: hazelnut_print_016.png | True: print | Predicted: print\n"
          ]
        }
      ]
    },
    {
      "cell_type": "code",
      "source": [
        "#@title TO DO: Print the confusion matrix using the predictions and ground truth labels\n",
        "\n",
        "from sklearn.metrics import confusion_matrix, ConfusionMatrixDisplay\n",
        "import matplotlib.pyplot as plt\n",
        "\n",
        "# Compute the confusion matrix\n",
        "cm = confusion_matrix(y_true, y_pred, labels=defect_spec.class_names)\n",
        "\n",
        "# Display it\n",
        "disp = ConfusionMatrixDisplay(confusion_matrix=cm, display_labels=defect_spec.class_names)\n",
        "disp.plot(cmap=plt.cm.Reds)\n",
        "plt.xticks(rotation=45)\n",
        "plt.show()\n"
      ],
      "metadata": {
        "id": "06ea5MK29WdT",
        "colab": {
          "base_uri": "https://localhost:8080/",
          "height": 477
        },
        "outputId": "fcd11270-d4b0-4970-a132-6f89417becc9"
      },
      "execution_count": 16,
      "outputs": [
        {
          "output_type": "display_data",
          "data": {
            "text/plain": [
              "<Figure size 640x480 with 2 Axes>"
            ],
            "image/png": "[encoded data removed]"
          },
          "metadata": {}
        }
      ]
    },
    {
      "cell_type": "markdown",
      "source": [
        "##  With a different spec"
      ],
      "metadata": {
        "id": "gQwmPBQm-LBc"
      }
    },
    {
      "cell_type": "code",
      "source": [
        "from spec import DefectClassificationSpec\n",
        "\n",
        "# New spec with simpler and shorter prompts\n",
        "defect_spec_v2 = DefectClassificationSpec(\n",
        "    model_name=\"ViT-B/16\",   # Trying out a different model\n",
        "    class_names=[\"good\", \"crack\", \"cut\", \"hole\", \"print\"],\n",
        "   prompts=[\n",
        "        [\"A photo of a good hazelnut\"],\n",
        "        [\"A photo of a hazelnut with a crack\"],\n",
        "        [\"A photo of a hazelnut with a cut\"],\n",
        "        [\"A photo of a hazelnut with a hole\"],\n",
        "        [\"A photo of a hazelnut with a print defect\"]\n",
        "    ]\n",
        ")\n"
      ],
      "metadata": {
        "id": "elDl6oix-MAE"
      },
      "execution_count": 17,
      "outputs": []
    },
    {
      "cell_type": "code",
      "source": [
        "#Confusion matrix for the new spec\n",
        "y_pred, y_true, file_paths = classify_defects(test_dir, defect_spec_v2, return_paths=True)\n",
        "\n",
        "from sklearn.metrics import confusion_matrix, ConfusionMatrixDisplay\n",
        "import matplotlib.pyplot as plt\n",
        "\n",
        "cm = confusion_matrix(y_true, y_pred, labels=defect_spec_v2.class_names)\n",
        "disp = ConfusionMatrixDisplay(confusion_matrix=cm, display_labels=defect_spec_v2.class_names)\n",
        "disp.plot(cmap=\"Blues\")\n",
        "plt.show()\n"
      ],
      "metadata": {
        "colab": {
          "base_uri": "https://localhost:8080/",
          "height": 490
        },
        "id": "PRAlpys49n0a",
        "outputId": "f89d4366-6285-4676-d208-303887374820"
      },
      "execution_count": 18,
      "outputs": [
        {
          "output_type": "stream",
          "name": "stderr",
          "text": [
            "100%|███████████████████████████████████████| 335M/335M [00:11<00:00, 30.6MiB/s]\n"
          ]
        },
        {
          "output_type": "stream",
          "name": "stdout",
          "text": [
            "Counts per true label: Counter({'print': 10, 'hole': 4, 'good': 2, 'crack': 1, 'cut': 1})\n"
          ]
        },
        {
          "output_type": "display_data",
          "data": {
            "text/plain": [
              "<Figure size 640x480 with 2 Axes>"
            ],
            "image/png": "[encoded data removed]"
          },
          "metadata": {}
        }
      ]
    },
    {
      "cell_type": "markdown",
      "source": [
        "\n",
        "\n",
        "##**Observations – Confusion Matrix**##\n",
        "\n",
        "I analyzed the confusion matrix to understand class-level performance. **For example, “good” images were sometimes misclassified as “hole,” “hole” images were often misclassified as “crack,” and “cut” samples as “print.” In contrast, “print” had the strongest performance, being mostly classified correctly.** This highlights that the model struggles with subtle defect differences, a limitation amplified by the small dataset size.\n",
        "\n",
        "## **Experimentation with Prompts and Augmentation**##\n",
        "\n",
        "In the first specification, I used the **ViT-B/32** model, and in the second specification, I switched to the **ViT-B/16 model along with shorter and refined prompts.** However, this change did not significantly improve classification accuracy. I also attempted **image augmentation techniques, such as positional shifts and transformations**, though the code is not included here. Despite these efforts, the misclassification patterns largely remained unchanged.\n",
        "## **Iterative Prompt Adjustment**##\n",
        "\n",
        "I further examined which images were misclassified and iteratively adjusted the prompts in response. However, this approach also failed to resolve the issue, again due to the **limited number of images per class**, which restricted the model’s ability to generalize effectively.\n",
        "\n",
        "##**Conclusion**##\n",
        "\n",
        "From these experiments, I observed that while WinCLIP provides a strong foundation for zero-shot classification, it faces challenges in fine-grained industrial defect detection when datasets are small. **Misclassifications persisted despite prompt engineering and image augmentation.** To achieve robust performance, the approach requires larger datasets, targeted fine-tuning, or complementary methods beyond zero-shot prompting alone.\n"
      ],
      "metadata": {
        "id": "Fv6f4r3O3VAr"
      }
    }
  ]
}